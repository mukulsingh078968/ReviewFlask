{
  "nbformat": 4,
  "nbformat_minor": 0,
  "metadata": {
    "colab": {
      "provenance": [],
      "authorship_tag": "ABX9TyNe+nhfE2ZAAwfsocGHoG1V",
      "include_colab_link": true
    },
    "kernelspec": {
      "name": "python3",
      "display_name": "Python 3"
    },
    "language_info": {
      "name": "python"
    }
  },
  "cells": [
    {
      "cell_type": "markdown",
      "metadata": {
        "id": "view-in-github",
        "colab_type": "text"
      },
      "source": [
        "<a href=\"https://colab.research.google.com/github/mukulsingh078968/ReviewFlask/blob/main/Programming_Assignment_9.ipynb\" target=\"_parent\"><img src=\"https://colab.research.google.com/assets/colab-badge.svg\" alt=\"Open In Colab\"/></a>"
      ]
    },
    {
      "cell_type": "markdown",
      "source": [
        "1.  Write a Python program to check if the given number is a Disarium Number?\n"
      ],
      "metadata": {
        "id": "kcOSaGjRBXj2"
      }
    },
    {
      "cell_type": "code",
      "execution_count": 1,
      "metadata": {
        "colab": {
          "base_uri": "https://localhost:8080/"
        },
        "id": "_jWd4SVr9nfL",
        "outputId": "aab7c86c-af57-4ce4-9cf4-02da2f7ce889"
      },
      "outputs": [
        {
          "output_type": "stream",
          "name": "stdout",
          "text": [
            "Enter the Number to Check Disarium Number = 10\n",
            "The Sum of the Digits = 1\n",
            "10 is Not a Disarium Number.\n"
          ]
        }
      ],
      "source": [
        "Number = int(input(\"Enter the Number to Check Disarium Number = \"))\n",
        "length = len(str(Number))\n",
        "\n",
        "Temp = Number\n",
        "Sum = 0\n",
        "rem = 0\n",
        "\n",
        "while Temp > 0:\n",
        "    rem = Temp % 10\n",
        "    Sum = Sum + int(rem**length)\n",
        "    Temp = Temp // 10\n",
        "    length = length - 1\n",
        "\n",
        "print(\"The Sum of the Digits = %d\" %Sum)\n",
        "\n",
        "if Sum == Number:\n",
        "    print(\"\\n%d is a Disarium Number.\" %Number)\n",
        "else:\n",
        "    print(\"%d is Not a Disarium Number.\" %Number)"
      ]
    },
    {
      "cell_type": "markdown",
      "source": [
        "**2**.     Write a Python program to print all disarium numbers between 1 to 100?\n"
      ],
      "metadata": {
        "id": "-7fD1wIlCKws"
      }
    },
    {
      "cell_type": "code",
      "source": [
        "def length_calculation(my_val):\n",
        "   len_val = 0\n",
        "   while(my_val != 0):\n",
        "      len_val = len_val + 1\n",
        "      my_val = my_val//10\n",
        "   return len_val\n",
        "def digit_sum(my_num):\n",
        "   remaining = sum_val = 0\n",
        "   len_fun = length_calculation(my_num)\n",
        "   while(my_num > 0):\n",
        "      remaining = my_num%10\n",
        "      sum_val = sum_val + (remaining**len_fun)\n",
        "      my_num = my_num//10\n",
        "      len_fun = len_fun - 1\n",
        "   return sum_val\n",
        "ini_result = 0\n",
        "print(\"The disarium numbers between 1 and 100 are : \")\n",
        "for i in range(1, 101):\n",
        "   ini_result = digit_sum(i)\n",
        "   if(ini_result == i):\n",
        "      print(i)\n"
      ],
      "metadata": {
        "colab": {
          "base_uri": "https://localhost:8080/"
        },
        "id": "BMlAzG5_CoSh",
        "outputId": "cbc53d09-7e0d-4589-eab4-679eb0648ea1"
      },
      "execution_count": 3,
      "outputs": [
        {
          "output_type": "stream",
          "name": "stdout",
          "text": [
            "The disarium numbers between 1 and 100 are : \n",
            "1\n",
            "2\n",
            "3\n",
            "4\n",
            "5\n",
            "6\n",
            "7\n",
            "8\n",
            "9\n",
            "89\n"
          ]
        }
      ]
    },
    {
      "cell_type": "markdown",
      "source": [
        "## **3**.   Write a Python program to check if the given number is Happy Number?"
      ],
      "metadata": {
        "id": "X8CiFHLZDJdm"
      }
    },
    {
      "cell_type": "code",
      "source": [
        "def is_Happy_num(n):\n",
        "  past = set()\n",
        "  while n != 1:\n",
        "        n = sum(int(i)**2 for i in str(n))\n",
        "        if n in past:\n",
        "            return False\n",
        "        past.add(n)\n",
        "  return True\n",
        "print(is_Happy_num(7))\n",
        "print(is_Happy_num(932))\n",
        "print(is_Happy_num(6))\n"
      ],
      "metadata": {
        "colab": {
          "base_uri": "https://localhost:8080/"
        },
        "id": "jJAC9qalEv4t",
        "outputId": "2d6ab893-233f-4a2f-c164-628d2a612f1d"
      },
      "execution_count": 7,
      "outputs": [
        {
          "output_type": "stream",
          "name": "stdout",
          "text": [
            "True\n",
            "True\n",
            "False\n"
          ]
        }
      ]
    },
    {
      "cell_type": "markdown",
      "source": [
        "4.   Write a Python program to print all happy numbers between 1 and 100?"
      ],
      "metadata": {
        "id": "ZkQHdPByFxoU"
      }
    },
    {
      "cell_type": "code",
      "source": [
        "def check_happy_num(my_num):\n",
        "   remaining = sum_val = 0\n",
        "   while(my_num > 0):\n",
        "      remaining = my_num%10\n",
        "      sum_val = sum_val + (remaining*remaining)\n",
        "      my_num = my_num//10\n",
        "   return sum_val\n",
        "print(\"The list of happy numbers between 1 and 100 are : \")\n",
        "for i in range(1, 101):\n",
        "   my_result = i\n",
        "   while(my_result != 1 and my_result != 4):\n",
        "      my_result = check_happy_num(my_result)\n",
        "   if(my_result == 1):\n",
        "      print(i)"
      ],
      "metadata": {
        "colab": {
          "base_uri": "https://localhost:8080/"
        },
        "id": "Ge1QY65FFrPU",
        "outputId": "29a30079-e113-4321-dc19-e5c734033de0"
      },
      "execution_count": 8,
      "outputs": [
        {
          "output_type": "stream",
          "name": "stdout",
          "text": [
            "The list of happy numbers between 1 and 100 are : \n",
            "1\n",
            "7\n",
            "10\n",
            "13\n",
            "19\n",
            "23\n",
            "28\n",
            "31\n",
            "32\n",
            "44\n",
            "49\n",
            "68\n",
            "70\n",
            "79\n",
            "82\n",
            "86\n",
            "91\n",
            "94\n",
            "97\n",
            "100\n"
          ]
        }
      ]
    },
    {
      "cell_type": "markdown",
      "source": [
        "5.   Write a Python program to determine whether the given number is a Harshad Number?\n"
      ],
      "metadata": {
        "id": "ecAAkl-bGF7p"
      }
    },
    {
      "cell_type": "code",
      "source": [
        "num = int(input(\"Enter a number: \"))    \n",
        "digit = sum = 0\n",
        "temp = num   \n",
        "     \n",
        "# Calculates sum of digits    \n",
        "while(temp > 0):    \n",
        "    digit = temp % 10\n",
        "    sum = sum + digit    \n",
        "    temp = temp // 10    \n",
        "     \n",
        "# Checks whether the number is divisible by the sum of digits    \n",
        "if num % sum == 0:    \n",
        "    print(num, \"is a Harshad Number!!!\")    \n",
        "else:    \n",
        "    print(num, \"is not a Harshad Number!!!\")"
      ],
      "metadata": {
        "colab": {
          "base_uri": "https://localhost:8080/"
        },
        "id": "spv7ni8aF9_8",
        "outputId": "bcbdd4ff-bd97-4165-cffa-959fe20b05a0"
      },
      "execution_count": 9,
      "outputs": [
        {
          "output_type": "stream",
          "name": "stdout",
          "text": [
            "Enter a number: 56\n",
            "56 is not a Harshad Number!!!\n"
          ]
        }
      ]
    },
    {
      "cell_type": "markdown",
      "source": [
        "6.   Write a Python program to print all pronic numbers between 1 and 100?\n"
      ],
      "metadata": {
        "id": "0-jzwvGMHcOi"
      }
    },
    {
      "cell_type": "code",
      "source": [
        "def isPronicNumber(num):    \n",
        "    flag = False;    \n",
        "        \n",
        "    for j in range(1, num+1):       \n",
        "        if((j*(j+1)) == num):    \n",
        "            flag = True;    \n",
        "            break;    \n",
        "    return flag;     \n",
        "print(\"Pronic numbers between 1 and 100: \");    \n",
        "for i in range(1, 101):    \n",
        "    if(isPronicNumber(i)):    \n",
        "        print(i),    \n",
        "        print(\" \"),    "
      ],
      "metadata": {
        "colab": {
          "base_uri": "https://localhost:8080/"
        },
        "id": "NqRU_CCAIR0p",
        "outputId": "326ba71c-9ae4-455c-a7f3-accbb0ff8b91"
      },
      "execution_count": 13,
      "outputs": [
        {
          "output_type": "stream",
          "name": "stdout",
          "text": [
            "Pronic numbers between 1 and 100: \n",
            "2\n",
            " \n",
            "6\n",
            " \n",
            "12\n",
            " \n",
            "20\n",
            " \n",
            "30\n",
            " \n",
            "42\n",
            " \n",
            "56\n",
            " \n",
            "72\n",
            " \n",
            "90\n",
            " \n"
          ]
        }
      ]
    },
    {
      "cell_type": "code",
      "source": [],
      "metadata": {
        "id": "GCSNofupI-nL"
      },
      "execution_count": null,
      "outputs": []
    }
  ]
}